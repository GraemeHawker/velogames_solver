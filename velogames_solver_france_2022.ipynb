{
 "cells": [
  {
   "cell_type": "markdown",
   "metadata": {},
   "source": [
    "# Velogames solver: Tour De France 2022 (Julia Edition)\n",
    "A script to calculate the optimal team that could have been chosen for a given race in [Velogames fantasy cycling](https://www.velogames.com/)\n",
    "\n",
    "This Julia script uses the [Gumbo](https://github.com/JuliaWeb/Gumbo.jl) and [Cascadia](https://github.com/Algocircle/Cascadia.jl) libraries to scrape rider data, and the [JuMP](https://jump.dev/JuMP.jl/stable/) optimisation library / [HiGHS](https://highs.dev/) solver to construct and solve a mixed-integer program (MIP) described below\n",
    "\n",
    "In Velogames fantasy cycling, you must select a team of 9 riders, each with a specific cost based on their expected performance, spending no more than 100 points. \n",
    "\n",
    "Each rider is classed as either an All-Rounder, a Climber, a Sprinter or is Unclassed. A team must contain 2 All-Rounders, 2 Climbers, 1 Sprinter and 3 Unclassed riders. The 9th selection can be from any of these categories.\n",
    "\n",
    "At the end of the race, each rider will have accumulated a score based on their performance, and the aim is to pick a team with the highest combined score at the end of the race.\n",
    "\n",
    "The optimisation problem can be stated as:\n",
    "\n",
    "$maximise \\sum_{j=1}^{n} x_j y_j$\n",
    "\n",
    "$s.t.$ \n",
    "\n",
    "$\\sum_{j=1}^{n} x_j=9$\n",
    "\n",
    "$\\sum_{j=1}^{n} x_j z_j \\leq 100$\n",
    "\n",
    "$\\sum_{j=1}^{n} x_j a_j \\geq 2$\n",
    "\n",
    "$\\sum_{j=1}^{n} x_j c_j \\geq 2$\n",
    "\n",
    "$\\sum_{j=1}^{n} x_j s_j \\geq 1$\n",
    "\n",
    "$\\sum_{j=1}^{n} x_j u_j \\geq 3$\n",
    "\n",
    "where $j=1...n$ is the set of all riders\n",
    "\n",
    "$x_j\\in[0,1]$ is a binary decision variable denoting if rider $j$ is chosen (1 for chosen, 0 for not chosen)\n",
    "\n",
    "$z_j\\in Z^+$ and $y_j\\in Z^+$ are the cost and score parameters of rider $j$ respectively\n",
    "\n",
    "$a_j\\in[0,1]$, $c_j\\in[0,1]$, $s_j\\in[0,1]$ and $u_j\\in[0,1]$ are binary parameters denoting if rider $j$ is an All-Rounder, Climber, Sprinter or Unclassed respectively, with the further parameter constraint that $a_i+c_i+s_i+u_i=1$ $\\forall i=1...n$ (i.e. each rider is allocated to one and only one of the 4 categories) and by implication $\\sum_{j=1}^{n} a_j+\\sum_{j=1}^{n} c_j+\\sum_{j=1}^{n} s_j+\\sum_{j=1}^{n} u_j=n$ (i.e. the sum of the number of riders in each category is equal to the total number of riders)"
   ]
  },
  {
   "cell_type": "code",
   "execution_count": 1,
   "metadata": {},
   "outputs": [],
   "source": [
    "using Gumbo\n",
    "using Cascadia\n",
    "using DataFrames\n",
    "using JuMP\n",
    "using HiGHS"
   ]
  },
  {
   "cell_type": "code",
   "execution_count": 2,
   "metadata": {},
   "outputs": [
    {
     "data": {
      "text/html": [
       "<div class=\"data-frame\"><p>176 rows × 8 columns (omitted printing of 1 columns)</p><table class=\"data-frame\"><thead><tr><th></th><th>name</th><th>class</th><th>cost</th><th>score</th><th>All Rounder</th><th>Sprinter</th><th>Unclassed</th></tr><tr><th></th><th title=\"String\">String</th><th title=\"String\">String</th><th title=\"Int64\">Int64</th><th title=\"Int64\">Int64</th><th title=\"Bool\">Bool</th><th title=\"Bool\">Bool</th><th title=\"Bool\">Bool</th></tr></thead><tbody><tr><th>1</th><td>Tadej Pogačar</td><td>All Rounder</td><td>26</td><td>2732</td><td>1</td><td>0</td><td>0</td></tr><tr><th>2</th><td>Primož Roglič</td><td>All Rounder</td><td>22</td><td>677</td><td>1</td><td>0</td><td>0</td></tr><tr><th>3</th><td>Wout Van Aert</td><td>Sprinter</td><td>18</td><td>2658</td><td>0</td><td>1</td><td>0</td></tr><tr><th>4</th><td>Jonas Vingegaard</td><td>All Rounder</td><td>18</td><td>2385</td><td>1</td><td>0</td><td>0</td></tr><tr><th>5</th><td>Jasper Philipsen</td><td>Sprinter</td><td>14</td><td>1056</td><td>0</td><td>1</td><td>0</td></tr><tr><th>6</th><td>Mathieu Van Der Poel</td><td>Unclassed</td><td>14</td><td>215</td><td>0</td><td>0</td><td>1</td></tr><tr><th>7</th><td>Aleksandr Vlasov</td><td>All Rounder</td><td>14</td><td>765</td><td>1</td><td>0</td><td>0</td></tr><tr><th>8</th><td>Daniel Felipe Martínez</td><td>Climber</td><td>14</td><td>534</td><td>0</td><td>0</td><td>0</td></tr><tr><th>9</th><td>Geraint Thomas</td><td>All Rounder</td><td>14</td><td>1540</td><td>1</td><td>0</td><td>0</td></tr><tr><th>10</th><td>Fabio Jakobsen</td><td>Sprinter</td><td>14</td><td>607</td><td>0</td><td>1</td><td>0</td></tr><tr><th>11</th><td>Ben O&apos;Connor</td><td>Climber</td><td>12</td><td>8</td><td>0</td><td>0</td><td>0</td></tr><tr><th>12</th><td>Adam Yates</td><td>Climber</td><td>12</td><td>876</td><td>0</td><td>0</td><td>0</td></tr><tr><th>13</th><td>Caleb Ewan</td><td>Sprinter</td><td>12</td><td>185</td><td>0</td><td>1</td><td>0</td></tr><tr><th>14</th><td>Enric Mas</td><td>All Rounder</td><td>12</td><td>560</td><td>1</td><td>0</td><td>0</td></tr><tr><th>15</th><td>Peter Sagan</td><td>Sprinter</td><td>12</td><td>552</td><td>0</td><td>1</td><td>0</td></tr><tr><th>16</th><td>Jack Haig</td><td>Climber</td><td>10</td><td>0</td><td>0</td><td>0</td><td>0</td></tr><tr><th>17</th><td>David Gaudu</td><td>Climber</td><td>10</td><td>1030</td><td>0</td><td>0</td><td>0</td></tr><tr><th>18</th><td>Filippo Ganna</td><td>Unclassed</td><td>10</td><td>635</td><td>0</td><td>0</td><td>1</td></tr><tr><th>19</th><td>Jakob Fuglsang</td><td>All Rounder</td><td>10</td><td>194</td><td>1</td><td>0</td><td>0</td></tr><tr><th>20</th><td>Nairo Quintana</td><td>Climber</td><td>10</td><td>809</td><td>0</td><td>0</td><td>0</td></tr><tr><th>21</th><td>Dylan Groenewegen</td><td>Sprinter</td><td>10</td><td>532</td><td>0</td><td>1</td><td>0</td></tr><tr><th>22</th><td>Michael Matthews</td><td>Sprinter</td><td>10</td><td>760</td><td>0</td><td>1</td><td>0</td></tr><tr><th>23</th><td>Romain Bardet</td><td>Climber</td><td>10</td><td>781</td><td>0</td><td>0</td><td>0</td></tr><tr><th>24</th><td>Alexey Lutsenko</td><td>All Rounder</td><td>8</td><td>550</td><td>1</td><td>0</td><td>0</td></tr><tr><th>&vellip;</th><td>&vellip;</td><td>&vellip;</td><td>&vellip;</td><td>&vellip;</td><td>&vellip;</td><td>&vellip;</td><td>&vellip;</td></tr></tbody></table></div>"
      ],
      "text/latex": [
       "\\begin{tabular}{r|cccccccc}\n",
       "\t& name & class & cost & score & All Rounder & Sprinter & Unclassed & \\\\\n",
       "\t\\hline\n",
       "\t& String & String & Int64 & Int64 & Bool & Bool & Bool & \\\\\n",
       "\t\\hline\n",
       "\t1 & Tadej Pogačar & All Rounder & 26 & 2732 & 1 & 0 & 0 & $\\dots$ \\\\\n",
       "\t2 & Primož Roglič & All Rounder & 22 & 677 & 1 & 0 & 0 & $\\dots$ \\\\\n",
       "\t3 & Wout Van Aert & Sprinter & 18 & 2658 & 0 & 1 & 0 & $\\dots$ \\\\\n",
       "\t4 & Jonas Vingegaard & All Rounder & 18 & 2385 & 1 & 0 & 0 & $\\dots$ \\\\\n",
       "\t5 & Jasper Philipsen & Sprinter & 14 & 1056 & 0 & 1 & 0 & $\\dots$ \\\\\n",
       "\t6 & Mathieu Van Der Poel & Unclassed & 14 & 215 & 0 & 0 & 1 & $\\dots$ \\\\\n",
       "\t7 & Aleksandr Vlasov & All Rounder & 14 & 765 & 1 & 0 & 0 & $\\dots$ \\\\\n",
       "\t8 & Daniel Felipe Martínez & Climber & 14 & 534 & 0 & 0 & 0 & $\\dots$ \\\\\n",
       "\t9 & Geraint Thomas & All Rounder & 14 & 1540 & 1 & 0 & 0 & $\\dots$ \\\\\n",
       "\t10 & Fabio Jakobsen & Sprinter & 14 & 607 & 0 & 1 & 0 & $\\dots$ \\\\\n",
       "\t11 & Ben O'Connor & Climber & 12 & 8 & 0 & 0 & 0 & $\\dots$ \\\\\n",
       "\t12 & Adam Yates & Climber & 12 & 876 & 0 & 0 & 0 & $\\dots$ \\\\\n",
       "\t13 & Caleb Ewan & Sprinter & 12 & 185 & 0 & 1 & 0 & $\\dots$ \\\\\n",
       "\t14 & Enric Mas & All Rounder & 12 & 560 & 1 & 0 & 0 & $\\dots$ \\\\\n",
       "\t15 & Peter Sagan & Sprinter & 12 & 552 & 0 & 1 & 0 & $\\dots$ \\\\\n",
       "\t16 & Jack Haig & Climber & 10 & 0 & 0 & 0 & 0 & $\\dots$ \\\\\n",
       "\t17 & David Gaudu & Climber & 10 & 1030 & 0 & 0 & 0 & $\\dots$ \\\\\n",
       "\t18 & Filippo Ganna & Unclassed & 10 & 635 & 0 & 0 & 1 & $\\dots$ \\\\\n",
       "\t19 & Jakob Fuglsang & All Rounder & 10 & 194 & 1 & 0 & 0 & $\\dots$ \\\\\n",
       "\t20 & Nairo Quintana & Climber & 10 & 809 & 0 & 0 & 0 & $\\dots$ \\\\\n",
       "\t21 & Dylan Groenewegen & Sprinter & 10 & 532 & 0 & 1 & 0 & $\\dots$ \\\\\n",
       "\t22 & Michael Matthews & Sprinter & 10 & 760 & 0 & 1 & 0 & $\\dots$ \\\\\n",
       "\t23 & Romain Bardet & Climber & 10 & 781 & 0 & 0 & 0 & $\\dots$ \\\\\n",
       "\t24 & Alexey Lutsenko & All Rounder & 8 & 550 & 1 & 0 & 0 & $\\dots$ \\\\\n",
       "\t$\\dots$ & $\\dots$ & $\\dots$ & $\\dots$ & $\\dots$ & $\\dots$ & $\\dots$ & $\\dots$ &  \\\\\n",
       "\\end{tabular}\n"
      ],
      "text/plain": [
       "\u001b[1m176×8 DataFrame\u001b[0m\n",
       "\u001b[1m Row \u001b[0m│\u001b[1m name                   \u001b[0m\u001b[1m class       \u001b[0m\u001b[1m cost  \u001b[0m\u001b[1m score \u001b[0m\u001b[1m All Rounder \u001b[0m\u001b[1m Sprinte\u001b[0m ⋯\n",
       "\u001b[1m     \u001b[0m│\u001b[90m String                 \u001b[0m\u001b[90m String      \u001b[0m\u001b[90m Int64 \u001b[0m\u001b[90m Int64 \u001b[0m\u001b[90m Bool        \u001b[0m\u001b[90m Bool   \u001b[0m ⋯\n",
       "─────┼──────────────────────────────────────────────────────────────────────────\n",
       "   1 │ Tadej Pogačar           All Rounder     26   2732         true     fals ⋯\n",
       "   2 │ Primož Roglič           All Rounder     22    677         true     fals\n",
       "   3 │ Wout Van Aert           Sprinter        18   2658        false      tru\n",
       "   4 │ Jonas Vingegaard        All Rounder     18   2385         true     fals\n",
       "   5 │ Jasper Philipsen        Sprinter        14   1056        false      tru ⋯\n",
       "   6 │ Mathieu Van Der Poel    Unclassed       14    215        false     fals\n",
       "   7 │ Aleksandr Vlasov        All Rounder     14    765         true     fals\n",
       "   8 │ Daniel Felipe Martínez  Climber         14    534        false     fals\n",
       "  ⋮  │           ⋮                  ⋮         ⋮      ⋮         ⋮          ⋮    ⋱\n",
       " 170 │ Amund Grøndahl Jansen   Unclassed        4     28        false     fals ⋯\n",
       " 171 │ Kevin Vermaerke         Unclassed        4      0        false     fals\n",
       " 172 │ Maciej Bodnar           Unclassed        4      4        false     fals\n",
       " 173 │ Daniel Oss              Unclassed        4      4        false     fals\n",
       " 174 │ Tony Gallopin           Unclassed        4     48        false     fals ⋯\n",
       " 175 │ Alex Kirsch             Unclassed        4     10        false     fals\n",
       " 176 │ Vegard Stake Laengen    Unclassed        4     38        false     fals\n",
       "\u001b[36m                                                  3 columns and 161 rows omitted\u001b[0m"
      ]
     },
     "metadata": {},
     "output_type": "display_data"
    }
   ],
   "source": [
    "# download rider data from webpage\n",
    "url = \"https://www.velogames.com/velogame/2022/riders.php\"\n",
    "page = parsehtml(read(download(url), String))\n",
    "rider_table = eachmatch(sel\"table\", page.root)[1]\n",
    "rider_names = String[]\n",
    "rider_classes = String[]\n",
    "rider_costs = Int64[]\n",
    "rider_scores = Int64[]\n",
    "\n",
    "for rider_row in eachmatch(sel\"tr\", rider_table)[2:end]\n",
    "    rider_cells = eachmatch(sel\"td\", rider_row)\n",
    "    push!(rider_names, text(rider_cells[2]))\n",
    "    push!(rider_classes, text(rider_cells[4]))\n",
    "    push!(rider_costs, parse(Int64, text(rider_cells[5])))\n",
    "    push!(rider_scores, parse(Int64, text(rider_cells[7])))\n",
    "end\n",
    "rider_df = DataFrame(name=rider_names, class=rider_classes, cost=rider_costs, score=rider_scores)\n",
    "\n",
    "# normalise class data\n",
    "for class in unique(rider_df.class)\n",
    "    rider_df[!,class] = rider_df.class .== class\n",
    "end\n",
    "\n",
    "rider_df"
   ]
  },
  {
   "cell_type": "code",
   "execution_count": 3,
   "metadata": {},
   "outputs": [
    {
     "name": "stdout",
     "output_type": "stream",
     "text": [
      "Presolving model\n",
      "6 rows, 176 cols, 528 nonzeros\n",
      "6 rows, 155 cols, 389 nonzeros\n",
      "Objective function is integral with scale 1\n",
      "\n",
      "Solving MIP model with:\n",
      "   6 rows\n",
      "   155 cols (140 binary, 15 integer, 0 implied int., 0 continuous)\n",
      "   389 nonzeros\n",
      "\n",
      "( 0.0s) Starting symmetry detection\n",
      "( 0.0s) No symmetry present\n",
      "\n",
      "        Nodes      |    B&B Tree     |            Objective Bounds              |  Dynamic Constraints |       Work      \n",
      "     Proc. InQueue |  Leaves   Expl. | BestBound       BestSol              Gap |   Cuts   InLp Confl. | LpIters     Time\n",
      "\n",
      "         0       0         0   0.00%   46674           -inf                 inf        0      0      0         0     0.0s\n",
      " R       0       0         0   0.00%   11968           11001              8.79%        0      0      0         7     0.0s\n",
      "\n",
      "Solving report\n",
      "  Status            Optimal\n",
      "  Primal bound      11831\n",
      "  Dual bound        11831\n",
      "  Gap               0% (tolerance: 0.01%)\n",
      "  Solution status   feasible\n",
      "                    11831 (objective)\n",
      "                    0 (bound viol.)\n",
      "                    2.22044604925e-16 (int. viol.)\n",
      "                    0 (row viol.)\n",
      "  Timing            0.01 (total)\n",
      "                    0.00 (presolve)\n",
      "                    0.00 (postsolve)\n",
      "  Nodes             1\n",
      "  LP iterations     15 (total)\n",
      "                    0 (strong br.)\n",
      "                    8 (separation)\n",
      "                    0 (heuristics)\n"
     ]
    }
   ],
   "source": [
    "model = Model(HiGHS.Optimizer)\n",
    "@variable(model, x[rider_df.name], Bin)\n",
    "@objective(model, Max, rider_df.score' * x) # maximise the total score\n",
    "@constraint(model, rider_df.cost' * x <= 100) # cost must be <= 100\n",
    "@constraint(model, sum(x) == 9) # exactly 9 riders must be chosen\n",
    "@constraint(model, rider_df[!, \"All Rounder\"]' * x >= 2) # at least 2 must be all rounders\n",
    "@constraint(model, rider_df[!, \"Sprinter\"]' * x >= 1) # at least 1 must be a sprinter\n",
    "@constraint(model, rider_df[!, \"Climber\"]' * x >= 2) # at least 2 must be climbers\n",
    "@constraint(model, rider_df[!, \"Unclassed\"]' * x >= 3) # at least 3 must be unclassed\n",
    "optimize!(model)"
   ]
  },
  {
   "cell_type": "code",
   "execution_count": 4,
   "metadata": {},
   "outputs": [
    {
     "data": {
      "text/plain": [
       "11831.0"
      ]
     },
     "metadata": {},
     "output_type": "display_data"
    }
   ],
   "source": [
    "# total score\n",
    "objective_value(model)"
   ]
  },
  {
   "cell_type": "code",
   "execution_count": 5,
   "metadata": {},
   "outputs": [
    {
     "data": {
      "text/plain": [
       "100.0"
      ]
     },
     "metadata": {},
     "output_type": "display_data"
    }
   ],
   "source": [
    "# total cost\n",
    "rider_df.cost.*value.(x).data |> sum"
   ]
  },
  {
   "cell_type": "code",
   "execution_count": 6,
   "metadata": {},
   "outputs": [
    {
     "data": {
      "text/html": [
       "<div class=\"data-frame\"><p>9 rows × 9 columns (omitted printing of 2 columns)</p><table class=\"data-frame\"><thead><tr><th></th><th>name</th><th>class</th><th>cost</th><th>score</th><th>All Rounder</th><th>Sprinter</th><th>Unclassed</th></tr><tr><th></th><th title=\"String\">String</th><th title=\"String\">String</th><th title=\"Int64\">Int64</th><th title=\"Int64\">Int64</th><th title=\"Bool\">Bool</th><th title=\"Bool\">Bool</th><th title=\"Bool\">Bool</th></tr></thead><tbody><tr><th>1</th><td>Tadej Pogačar</td><td>All Rounder</td><td>26</td><td>2732</td><td>1</td><td>0</td><td>0</td></tr><tr><th>2</th><td>Wout Van Aert</td><td>Sprinter</td><td>18</td><td>2658</td><td>0</td><td>1</td><td>0</td></tr><tr><th>3</th><td>Jonas Vingegaard</td><td>All Rounder</td><td>18</td><td>2385</td><td>1</td><td>0</td><td>0</td></tr><tr><th>4</th><td>David Gaudu</td><td>Climber</td><td>10</td><td>1030</td><td>0</td><td>0</td><td>0</td></tr><tr><th>5</th><td>Thomas Pidcock</td><td>Unclassed</td><td>8</td><td>936</td><td>0</td><td>0</td><td>1</td></tr><tr><th>6</th><td>Louis Meintjes</td><td>Climber</td><td>6</td><td>659</td><td>0</td><td>0</td><td>0</td></tr><tr><th>7</th><td>Christophe Laporte</td><td>Sprinter</td><td>6</td><td>864</td><td>0</td><td>1</td><td>0</td></tr><tr><th>8</th><td>Benjamin Thomas</td><td>Unclassed</td><td>4</td><td>277</td><td>0</td><td>0</td><td>1</td></tr><tr><th>9</th><td>Nathan Van Hooydonck</td><td>Unclassed</td><td>4</td><td>290</td><td>0</td><td>0</td><td>1</td></tr></tbody></table></div>"
      ],
      "text/latex": [
       "\\begin{tabular}{r|cccccccc}\n",
       "\t& name & class & cost & score & All Rounder & Sprinter & Unclassed & \\\\\n",
       "\t\\hline\n",
       "\t& String & String & Int64 & Int64 & Bool & Bool & Bool & \\\\\n",
       "\t\\hline\n",
       "\t1 & Tadej Pogačar & All Rounder & 26 & 2732 & 1 & 0 & 0 & $\\dots$ \\\\\n",
       "\t2 & Wout Van Aert & Sprinter & 18 & 2658 & 0 & 1 & 0 & $\\dots$ \\\\\n",
       "\t3 & Jonas Vingegaard & All Rounder & 18 & 2385 & 1 & 0 & 0 & $\\dots$ \\\\\n",
       "\t4 & David Gaudu & Climber & 10 & 1030 & 0 & 0 & 0 & $\\dots$ \\\\\n",
       "\t5 & Thomas Pidcock & Unclassed & 8 & 936 & 0 & 0 & 1 & $\\dots$ \\\\\n",
       "\t6 & Louis Meintjes & Climber & 6 & 659 & 0 & 0 & 0 & $\\dots$ \\\\\n",
       "\t7 & Christophe Laporte & Sprinter & 6 & 864 & 0 & 1 & 0 & $\\dots$ \\\\\n",
       "\t8 & Benjamin Thomas & Unclassed & 4 & 277 & 0 & 0 & 1 & $\\dots$ \\\\\n",
       "\t9 & Nathan Van Hooydonck & Unclassed & 4 & 290 & 0 & 0 & 1 & $\\dots$ \\\\\n",
       "\\end{tabular}\n"
      ],
      "text/plain": [
       "\u001b[1m9×9 DataFrame\u001b[0m\n",
       "\u001b[1m Row \u001b[0m│\u001b[1m name                 \u001b[0m\u001b[1m class       \u001b[0m\u001b[1m cost  \u001b[0m\u001b[1m score \u001b[0m\u001b[1m All Rounder \u001b[0m\u001b[1m Sprinter \u001b[0m\u001b[1m\u001b[0m ⋯\n",
       "\u001b[1m     \u001b[0m│\u001b[90m String               \u001b[0m\u001b[90m String      \u001b[0m\u001b[90m Int64 \u001b[0m\u001b[90m Int64 \u001b[0m\u001b[90m Bool        \u001b[0m\u001b[90m Bool     \u001b[0m\u001b[90m\u001b[0m ⋯\n",
       "─────┼──────────────────────────────────────────────────────────────────────────\n",
       "   1 │ Tadej Pogačar         All Rounder     26   2732         true     false  ⋯\n",
       "   2 │ Wout Van Aert         Sprinter        18   2658        false      true\n",
       "   3 │ Jonas Vingegaard      All Rounder     18   2385         true     false\n",
       "   4 │ David Gaudu           Climber         10   1030        false     false\n",
       "   5 │ Thomas Pidcock        Unclassed        8    936        false     false  ⋯\n",
       "   6 │ Louis Meintjes        Climber          6    659        false     false\n",
       "   7 │ Christophe Laporte    Sprinter         6    864        false      true\n",
       "   8 │ Benjamin Thomas       Unclassed        4    277        false     false\n",
       "   9 │ Nathan Van Hooydonck  Unclassed        4    290        false     false  ⋯\n",
       "\u001b[36m                                                               3 columns omitted\u001b[0m"
      ]
     },
     "metadata": {},
     "output_type": "display_data"
    }
   ],
   "source": [
    "# selected riders\n",
    "rider_df[!,:chosen] = value.(x).data .|>  !iszero\n",
    "filter(:chosen => ==(true), rider_df)"
   ]
  }
 ],
 "metadata": {
  "kernelspec": {
   "display_name": "Julia 1.7.3",
   "language": "julia",
   "name": "julia-1.7"
  },
  "language_info": {
   "file_extension": ".jl",
   "mimetype": "application/julia",
   "name": "julia",
   "version": "1.7.3"
  },
  "orig_nbformat": 4
 },
 "nbformat": 4,
 "nbformat_minor": 2
}

{
 "cells": [
  {
   "cell_type": "code",
   "execution_count": 13,
   "metadata": {},
   "outputs": [
    {
     "ename": "ArgumentError",
     "evalue": "ArgumentError: Package DataFrames not found in current path:\n- Run `import Pkg; Pkg.add(\"DataFrames\")` to install the DataFrames package.\n",
     "output_type": "error",
     "traceback": [
      "ArgumentError: Package DataFrames not found in current path:\n",
      "- Run `import Pkg; Pkg.add(\"DataFrames\")` to install the DataFrames package.\n",
      "\n",
      "\n",
      "Stacktrace:\n",
      "  [1] require(into::Module, mod::Symbol)\n",
      "    @ Base .\\loading.jl:967\n",
      "  [2] eval\n",
      "    @ .\\boot.jl:373 [inlined]\n",
      "  [3] include_string(mapexpr::typeof(REPL.softscope), mod::Module, code::String, filename::String)\n",
      "    @ Base .\\loading.jl:1196\n",
      "  [4] #invokelatest#2\n",
      "    @ .\\essentials.jl:716 [inlined]\n",
      "  [5] invokelatest\n",
      "    @ .\\essentials.jl:714 [inlined]\n",
      "  [6] (::VSCodeServer.var\"#164#165\"{VSCodeServer.NotebookRunCellArguments, String})()\n",
      "    @ VSCodeServer c:\\Users\\graem\\.vscode\\extensions\\julialang.language-julia-1.6.24\\scripts\\packages\\VSCodeServer\\src\\serve_notebook.jl:19\n",
      "  [7] withpath(f::VSCodeServer.var\"#164#165\"{VSCodeServer.NotebookRunCellArguments, String}, path::String)\n",
      "    @ VSCodeServer c:\\Users\\graem\\.vscode\\extensions\\julialang.language-julia-1.6.24\\scripts\\packages\\VSCodeServer\\src\\repl.jl:184\n",
      "  [8] notebook_runcell_request(conn::VSCodeServer.JSONRPC.JSONRPCEndpoint{Base.PipeEndpoint, Base.PipeEndpoint}, params::VSCodeServer.NotebookRunCellArguments)\n",
      "    @ VSCodeServer c:\\Users\\graem\\.vscode\\extensions\\julialang.language-julia-1.6.24\\scripts\\packages\\VSCodeServer\\src\\serve_notebook.jl:13\n",
      "  [9] dispatch_msg(x::VSCodeServer.JSONRPC.JSONRPCEndpoint{Base.PipeEndpoint, Base.PipeEndpoint}, dispatcher::VSCodeServer.JSONRPC.MsgDispatcher, msg::Dict{String, Any})\n",
      "    @ VSCodeServer.JSONRPC c:\\Users\\graem\\.vscode\\extensions\\julialang.language-julia-1.6.24\\scripts\\packages\\JSONRPC\\src\\typed.jl:67\n",
      " [10] serve_notebook(pipename::String, outputchannel_logger::Base.CoreLogging.SimpleLogger; crashreporting_pipename::String)\n",
      "    @ VSCodeServer c:\\Users\\graem\\.vscode\\extensions\\julialang.language-julia-1.6.24\\scripts\\packages\\VSCodeServer\\src\\serve_notebook.jl:136\n",
      " [11] top-level scope\n",
      "    @ c:\\Users\\graem\\.vscode\\extensions\\julialang.language-julia-1.6.24\\scripts\\notebook\\notebook.jl:32\n",
      " [12] include(mod::Module, _path::String)\n",
      "    @ Base .\\Base.jl:418\n",
      " [13] exec_options(opts::Base.JLOptions)\n",
      "    @ Base .\\client.jl:292\n",
      " [14] _start()\n",
      "    @ Base .\\client.jl:495"
     ]
    }
   ],
   "source": [
    "using Gumbo\n",
    "using Cascadia\n",
    "using DataFrames"
   ]
  },
  {
   "cell_type": "code",
   "execution_count": null,
   "metadata": {},
   "outputs": [],
   "source": [
    "\n",
    "url = \"https://www.velogames.com/velogame/2022/riders.php\"\n",
    "\n",
    "page = parsehtml(read(download(url), String))\n"
   ]
  },
  {
   "cell_type": "code",
   "execution_count": 12,
   "metadata": {},
   "outputs": [
    {
     "name": "stdout",
     "output_type": "stream",
     "text": [
      "rider_scores = [2534, 677, 2424, 2162, 1050, 215, 737, 530, 1378, 607, 8, 865, 185, 560, 552, 0, 1012, 515, 194, 794, 532, 760, 767, 538, 183, 48, 155, 422, 91, 92, 706, 12, 197, 581, 932, 338, 236, 282, 512, 23, 20, 154, 411, 128, 954, 114, 367, 0, 52, 42, 543, 53, 62, 20, 0, 0, 96, 65, 390, 28, 349, 431, 43, 435, 47, 276, 130, 118, 423, 492, 0, 0, 80, 442, 52, 743, 34, 296, 438, 179, 374, 342, 48, 646, 195, 256, 138, 38, 296, 545, 324, 332, 860, 56, 3, 225, 10, 44, 485, 48, 252, 41, 113, 159, 407, 59, 335, 155, 353, 18, 54, 42, 38, 98, 305, 8, 48, 9, 8, 288, 94, 184, 4, 12, 297, 162, 222, 34, 230, 56, 115, 153, 250, 32, 28, 18, 6, 61, 23, 20, 0, 20, 0, 52, 50, 133, 0, 36, 26, 101, 277, 24, 45, 34, 54, 166, 76, 11, 94, 0, 290, 36, 60, 30, 69, 2, 30, 24, 60, 28, 0, 4, 4, 48, 10, 38]\n"
     ]
    },
    {
     "data": {
      "text/plain": [
       "176-element Vector{Int64}:\n",
       " 2534\n",
       "  677\n",
       " 2424\n",
       " 2162\n",
       " 1050\n",
       "  215\n",
       "  737\n",
       "  530\n",
       " 1378\n",
       "  607\n",
       "    ⋮\n",
       "   24\n",
       "   60\n",
       "   28\n",
       "    0\n",
       "    4\n",
       "    4\n",
       "   48\n",
       "   10\n",
       "   38"
      ]
     },
     "metadata": {},
     "output_type": "display_data"
    }
   ],
   "source": [
    "rider_table = eachmatch(sel\"table\", page.root)[1]\n",
    "rider_names = String[]\n",
    "rider_classes = String[]\n",
    "rider_costs = Int64[]\n",
    "rider_scores = Int64[]\n",
    "for rider_row in eachmatch(sel\"tr\", rider_table)[2:end]\n",
    "    #@show rider_row\n",
    "    rider_cells = eachmatch(sel\"td\", rider_row)\n",
    "    push!(rider_names, text(rider_cells[2]))\n",
    "    push!(rider_classes, text(rider_cells[4]))\n",
    "    push!(rider_costs, parse(Int64, text(rider_cells[5])))\n",
    "    push!(rider_scores, parse(Int64, text(rider_cells[7])))\n",
    "end\n",
    "@show rider_scores"
   ]
  },
  {
   "cell_type": "code",
   "execution_count": 32,
   "metadata": {},
   "outputs": [
    {
     "data": {
      "text/plain": [
       "HTMLElement{:table}:<table class=\"tablesorter custom-popup\">\n",
       "  <thead>\n",
       "    <tr>\n",
       "      <th data-priority=\"critical\" width=\"10%\"></th>\n",
       "      <th data-placeholder=\"Search Riders\" data-priority=\"critical\" width=\"23%\">\n",
       "        <b>\n",
       "          Rider\n",
       "        </b>\n",
       "      </th>\n",
       "      <th data-placeholder=\"All\" data-priority=\"3\" width=\"23%\">\n",
       "        <b>\n",
       "          Team\n",
       "        </b>\n",
       "      </th>\n",
       "      <th data-placeholder=\"All\" data-priority=\"critical\" width=\"20%\">\n",
       "        <b>\n",
       "          Class\n",
       "        </b>\n",
       "      </th>\n",
       "      <th align=\"center\" data-placeholder=\"All\" data-priority=\"critical\" width=\"10%\">\n",
       "...\n"
      ]
     },
     "metadata": {},
     "output_type": "display_data"
    }
   ],
   "source": [
    "rider_df = "
   ]
  },
  {
   "cell_type": "code",
   "execution_count": null,
   "metadata": {},
   "outputs": [],
   "source": []
  }
 ],
 "metadata": {
  "kernelspec": {
   "display_name": "Julia 1.7.3",
   "language": "julia",
   "name": "julia-1.7"
  },
  "language_info": {
   "file_extension": ".jl",
   "mimetype": "application/julia",
   "name": "julia",
   "version": "1.7.3"
  },
  "orig_nbformat": 4
 },
 "nbformat": 4,
 "nbformat_minor": 2
}

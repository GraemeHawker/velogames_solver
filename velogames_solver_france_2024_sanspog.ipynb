{
 "cells": [
  {
   "cell_type": "markdown",
   "metadata": {},
   "source": [
    "# Velogames solver: Tour De France 2022 (Julia Edition)\n",
    "A script to calculate the optimal team that could have been chosen for a given race in [Velogames fantasy cycling](https://www.velogames.com/)\n",
    "\n",
    "This Julia script uses the [Gumbo](https://github.com/JuliaWeb/Gumbo.jl) and [Cascadia](https://github.com/Algocircle/Cascadia.jl) libraries to scrape rider data, and the [JuMP](https://jump.dev/JuMP.jl/stable/) optimisation library / [HiGHS](https://highs.dev/) solver to construct and solve a mixed-integer program (MIP) described below\n",
    "\n",
    "In Velogames fantasy cycling, you must select a team of 9 riders, each with a specific cost based on their expected performance, spending no more than 100 points. \n",
    "\n",
    "Each rider is classed as either an All-Rounder, a Climber, a Sprinter or is Unclassed. A team must contain 2 All-Rounders, 2 Climbers, 1 Sprinter and 3 Unclassed riders. The 9th selection can be from any of these categories.\n",
    "\n",
    "At the end of the race, each rider will have accumulated a score based on their performance, and the aim is to pick a team with the highest combined score at the end of the race.\n",
    "\n",
    "The optimisation problem can be stated as:\n",
    "\n",
    "$maximise \\sum_{j=1}^{n} x_j y_j$\n",
    "\n",
    "$s.t.$ \n",
    "\n",
    "$\\sum_{j=1}^{n} x_j=9$\n",
    "\n",
    "$\\sum_{j=1}^{n} x_j z_j \\leq 100$\n",
    "\n",
    "$\\sum_{j=1}^{n} x_j a_j \\geq 2$\n",
    "\n",
    "$\\sum_{j=1}^{n} x_j c_j \\geq 2$\n",
    "\n",
    "$\\sum_{j=1}^{n} x_j s_j \\geq 1$\n",
    "\n",
    "$\\sum_{j=1}^{n} x_j u_j \\geq 3$\n",
    "\n",
    "where $j=1...n$ is the set of all riders\n",
    "\n",
    "$x_j\\in[0,1]$ is a binary decision variable denoting if rider $j$ is chosen (1 for chosen, 0 for not chosen)\n",
    "\n",
    "$z_j\\in Z^+$ and $y_j\\in Z^+$ are the cost and score parameters of rider $j$ respectively\n",
    "\n",
    "$a_j\\in[0,1]$, $c_j\\in[0,1]$, $s_j\\in[0,1]$ and $u_j\\in[0,1]$ are binary parameters denoting if rider $j$ is an All-Rounder, Climber, Sprinter or Unclassed respectively, with the further parameter constraint that $a_i+c_i+s_i+u_i=1$ $\\forall i=1...n$ (i.e. each rider is allocated to one and only one of the 4 categories) and by implication $\\sum_{j=1}^{n} a_j+\\sum_{j=1}^{n} c_j+\\sum_{j=1}^{n} s_j+\\sum_{j=1}^{n} u_j=n$ (i.e. the sum of the number of riders in each category is equal to the total number of riders)"
   ]
  },
  {
   "cell_type": "code",
   "execution_count": 1,
   "metadata": {},
   "outputs": [],
   "source": [
    "using Gumbo\n",
    "using Cascadia\n",
    "using DataFrames\n",
    "using JuMP\n",
    "using HiGHS"
   ]
  },
  {
   "cell_type": "code",
   "execution_count": 2,
   "metadata": {},
   "outputs": [
    {
     "data": {
      "text/html": [
       "<div><div style = \"float: left;\"><span>175×8 DataFrame</span></div><div style = \"float: right;\"><span style = \"font-style: italic;\">150 rows omitted</span></div><div style = \"clear: both;\"></div></div><div class = \"data-frame\" style = \"overflow-x: scroll;\"><table class = \"data-frame\" style = \"margin-bottom: 6px;\"><thead><tr class = \"header\"><th class = \"rowNumber\" style = \"font-weight: bold; text-align: right;\">Row</th><th style = \"text-align: left;\">name</th><th style = \"text-align: left;\">class</th><th style = \"text-align: left;\">cost</th><th style = \"text-align: left;\">score</th><th style = \"text-align: left;\">All Rounder</th><th style = \"text-align: left;\">Sprinter</th><th style = \"text-align: left;\">Climber</th><th style = \"text-align: left;\">Unclassed</th></tr><tr class = \"subheader headerLastRow\"><th class = \"rowNumber\" style = \"font-weight: bold; text-align: right;\"></th><th title = \"String\" style = \"text-align: left;\">String</th><th title = \"String\" style = \"text-align: left;\">String</th><th title = \"Int64\" style = \"text-align: left;\">Int64</th><th title = \"Int64\" style = \"text-align: left;\">Int64</th><th title = \"Bool\" style = \"text-align: left;\">Bool</th><th title = \"Bool\" style = \"text-align: left;\">Bool</th><th title = \"Bool\" style = \"text-align: left;\">Bool</th><th title = \"Bool\" style = \"text-align: left;\">Bool</th></tr></thead><tbody><tr><td class = \"rowNumber\" style = \"font-weight: bold; text-align: right;\">1</td><td style = \"text-align: left;\">Jonas Vingegaard</td><td style = \"text-align: left;\">All Rounder</td><td style = \"text-align: right;\">24</td><td style = \"text-align: right;\">2703</td><td style = \"text-align: right;\">true</td><td style = \"text-align: right;\">false</td><td style = \"text-align: right;\">false</td><td style = \"text-align: right;\">false</td></tr><tr><td class = \"rowNumber\" style = \"font-weight: bold; text-align: right;\">2</td><td style = \"text-align: left;\">Primož Roglič</td><td style = \"text-align: left;\">All Rounder</td><td style = \"text-align: right;\">20</td><td style = \"text-align: right;\">609</td><td style = \"text-align: right;\">true</td><td style = \"text-align: right;\">false</td><td style = \"text-align: right;\">false</td><td style = \"text-align: right;\">false</td></tr><tr><td class = \"rowNumber\" style = \"font-weight: bold; text-align: right;\">3</td><td style = \"text-align: left;\">Remco Evenepoel</td><td style = \"text-align: left;\">All Rounder</td><td style = \"text-align: right;\">18</td><td style = \"text-align: right;\">2619</td><td style = \"text-align: right;\">true</td><td style = \"text-align: right;\">false</td><td style = \"text-align: right;\">false</td><td style = \"text-align: right;\">false</td></tr><tr><td class = \"rowNumber\" style = \"font-weight: bold; text-align: right;\">4</td><td style = \"text-align: left;\">Jasper Philipsen</td><td style = \"text-align: left;\">Sprinter</td><td style = \"text-align: right;\">16</td><td style = \"text-align: right;\">1482</td><td style = \"text-align: right;\">false</td><td style = \"text-align: right;\">true</td><td style = \"text-align: right;\">false</td><td style = \"text-align: right;\">false</td></tr><tr><td class = \"rowNumber\" style = \"font-weight: bold; text-align: right;\">5</td><td style = \"text-align: left;\">Carlos Rodríguez</td><td style = \"text-align: left;\">Climber</td><td style = \"text-align: right;\">14</td><td style = \"text-align: right;\">1101</td><td style = \"text-align: right;\">false</td><td style = \"text-align: right;\">false</td><td style = \"text-align: right;\">true</td><td style = \"text-align: right;\">false</td></tr><tr><td class = \"rowNumber\" style = \"font-weight: bold; text-align: right;\">6</td><td style = \"text-align: left;\">Matteo Jorgenson</td><td style = \"text-align: left;\">All Rounder</td><td style = \"text-align: right;\">14</td><td style = \"text-align: right;\">1365</td><td style = \"text-align: right;\">true</td><td style = \"text-align: right;\">false</td><td style = \"text-align: right;\">false</td><td style = \"text-align: right;\">false</td></tr><tr><td class = \"rowNumber\" style = \"font-weight: bold; text-align: right;\">7</td><td style = \"text-align: left;\">Wout Van Aert</td><td style = \"text-align: left;\">Sprinter</td><td style = \"text-align: right;\">14</td><td style = \"text-align: right;\">1139</td><td style = \"text-align: right;\">false</td><td style = \"text-align: right;\">true</td><td style = \"text-align: right;\">false</td><td style = \"text-align: right;\">false</td></tr><tr><td class = \"rowNumber\" style = \"font-weight: bold; text-align: right;\">8</td><td style = \"text-align: left;\">Juan Ayuso</td><td style = \"text-align: left;\">All Rounder</td><td style = \"text-align: right;\">14</td><td style = \"text-align: right;\">543</td><td style = \"text-align: right;\">true</td><td style = \"text-align: right;\">false</td><td style = \"text-align: right;\">false</td><td style = \"text-align: right;\">false</td></tr><tr><td class = \"rowNumber\" style = \"font-weight: bold; text-align: right;\">9</td><td style = \"text-align: left;\">Adam Yates</td><td style = \"text-align: left;\">Climber</td><td style = \"text-align: right;\">14</td><td style = \"text-align: right;\">1369</td><td style = \"text-align: right;\">false</td><td style = \"text-align: right;\">false</td><td style = \"text-align: right;\">true</td><td style = \"text-align: right;\">false</td></tr><tr><td class = \"rowNumber\" style = \"font-weight: bold; text-align: right;\">10</td><td style = \"text-align: left;\">Egan Bernal</td><td style = \"text-align: left;\">Climber</td><td style = \"text-align: right;\">12</td><td style = \"text-align: right;\">292</td><td style = \"text-align: right;\">false</td><td style = \"text-align: right;\">false</td><td style = \"text-align: right;\">true</td><td style = \"text-align: right;\">false</td></tr><tr><td class = \"rowNumber\" style = \"font-weight: bold; text-align: right;\">11</td><td style = \"text-align: left;\">Mads Pedersen</td><td style = \"text-align: left;\">Sprinter</td><td style = \"text-align: right;\">12</td><td style = \"text-align: right;\">374</td><td style = \"text-align: right;\">false</td><td style = \"text-align: right;\">true</td><td style = \"text-align: right;\">false</td><td style = \"text-align: right;\">false</td></tr><tr><td class = \"rowNumber\" style = \"font-weight: bold; text-align: right;\">12</td><td style = \"text-align: left;\">Simon Yates</td><td style = \"text-align: left;\">Climber</td><td style = \"text-align: right;\">12</td><td style = \"text-align: right;\">754</td><td style = \"text-align: right;\">false</td><td style = \"text-align: right;\">false</td><td style = \"text-align: right;\">true</td><td style = \"text-align: right;\">false</td></tr><tr><td class = \"rowNumber\" style = \"font-weight: bold; text-align: right;\">13</td><td style = \"text-align: left;\">João Almeida</td><td style = \"text-align: left;\">All Rounder</td><td style = \"text-align: right;\">12</td><td style = \"text-align: right;\">1788</td><td style = \"text-align: right;\">true</td><td style = \"text-align: right;\">false</td><td style = \"text-align: right;\">false</td><td style = \"text-align: right;\">false</td></tr><tr><td style = \"text-align: right;\">&vellip;</td><td style = \"text-align: right;\">&vellip;</td><td style = \"text-align: right;\">&vellip;</td><td style = \"text-align: right;\">&vellip;</td><td style = \"text-align: right;\">&vellip;</td><td style = \"text-align: right;\">&vellip;</td><td style = \"text-align: right;\">&vellip;</td><td style = \"text-align: right;\">&vellip;</td><td style = \"text-align: right;\">&vellip;</td></tr><tr><td class = \"rowNumber\" style = \"font-weight: bold; text-align: right;\">164</td><td style = \"text-align: left;\">Ryan Gibbons</td><td style = \"text-align: left;\">Unclassed</td><td style = \"text-align: right;\">4</td><td style = \"text-align: right;\">327</td><td style = \"text-align: right;\">false</td><td style = \"text-align: right;\">false</td><td style = \"text-align: right;\">false</td><td style = \"text-align: right;\">true</td></tr><tr><td class = \"rowNumber\" style = \"font-weight: bold; text-align: right;\">165</td><td style = \"text-align: left;\">Jarrad Drizners</td><td style = \"text-align: left;\">Unclassed</td><td style = \"text-align: right;\">4</td><td style = \"text-align: right;\">12</td><td style = \"text-align: right;\">false</td><td style = \"text-align: right;\">false</td><td style = \"text-align: right;\">false</td><td style = \"text-align: right;\">true</td></tr><tr><td class = \"rowNumber\" style = \"font-weight: bold; text-align: right;\">166</td><td style = \"text-align: left;\">Sébastien Grignard</td><td style = \"text-align: left;\">Unclassed</td><td style = \"text-align: right;\">4</td><td style = \"text-align: right;\">12</td><td style = \"text-align: right;\">false</td><td style = \"text-align: right;\">false</td><td style = \"text-align: right;\">false</td><td style = \"text-align: right;\">true</td></tr><tr><td class = \"rowNumber\" style = \"font-weight: bold; text-align: right;\">167</td><td style = \"text-align: left;\">Gianni Moscon</td><td style = \"text-align: left;\">Unclassed</td><td style = \"text-align: right;\">4</td><td style = \"text-align: right;\">138</td><td style = \"text-align: right;\">false</td><td style = \"text-align: right;\">false</td><td style = \"text-align: right;\">false</td><td style = \"text-align: right;\">true</td></tr><tr><td class = \"rowNumber\" style = \"font-weight: bold; text-align: right;\">168</td><td style = \"text-align: left;\">Bram Welten</td><td style = \"text-align: left;\">Unclassed</td><td style = \"text-align: right;\">4</td><td style = \"text-align: right;\">62</td><td style = \"text-align: right;\">false</td><td style = \"text-align: right;\">false</td><td style = \"text-align: right;\">false</td><td style = \"text-align: right;\">true</td></tr><tr><td class = \"rowNumber\" style = \"font-weight: bold; text-align: right;\">169</td><td style = \"text-align: left;\">Luke Durbridge</td><td style = \"text-align: left;\">Unclassed</td><td style = \"text-align: right;\">4</td><td style = \"text-align: right;\">14</td><td style = \"text-align: right;\">false</td><td style = \"text-align: right;\">false</td><td style = \"text-align: right;\">false</td><td style = \"text-align: right;\">true</td></tr><tr><td class = \"rowNumber\" style = \"font-weight: bold; text-align: right;\">170</td><td style = \"text-align: left;\">Christopher Juul-Jensen</td><td style = \"text-align: left;\">Unclassed</td><td style = \"text-align: right;\">4</td><td style = \"text-align: right;\">54</td><td style = \"text-align: right;\">false</td><td style = \"text-align: right;\">false</td><td style = \"text-align: right;\">false</td><td style = \"text-align: right;\">true</td></tr><tr><td class = \"rowNumber\" style = \"font-weight: bold; text-align: right;\">171</td><td style = \"text-align: left;\">Elmar Reinders</td><td style = \"text-align: left;\">Unclassed</td><td style = \"text-align: right;\">4</td><td style = \"text-align: right;\">8</td><td style = \"text-align: right;\">false</td><td style = \"text-align: right;\">false</td><td style = \"text-align: right;\">false</td><td style = \"text-align: right;\">true</td></tr><tr><td class = \"rowNumber\" style = \"font-weight: bold; text-align: right;\">172</td><td style = \"text-align: left;\">Fabien Grellier</td><td style = \"text-align: left;\">Unclassed</td><td style = \"text-align: right;\">4</td><td style = \"text-align: right;\">32</td><td style = \"text-align: right;\">false</td><td style = \"text-align: right;\">false</td><td style = \"text-align: right;\">false</td><td style = \"text-align: right;\">true</td></tr><tr><td class = \"rowNumber\" style = \"font-weight: bold; text-align: right;\">173</td><td style = \"text-align: left;\">Anthony Turgis</td><td style = \"text-align: left;\">Unclassed</td><td style = \"text-align: right;\">4</td><td style = \"text-align: right;\">644</td><td style = \"text-align: right;\">false</td><td style = \"text-align: right;\">false</td><td style = \"text-align: right;\">false</td><td style = \"text-align: right;\">true</td></tr><tr><td class = \"rowNumber\" style = \"font-weight: bold; text-align: right;\">174</td><td style = \"text-align: left;\">Mattéo Vercher</td><td style = \"text-align: left;\">Unclassed</td><td style = \"text-align: right;\">4</td><td style = \"text-align: right;\">245</td><td style = \"text-align: right;\">false</td><td style = \"text-align: right;\">false</td><td style = \"text-align: right;\">false</td><td style = \"text-align: right;\">true</td></tr><tr><td class = \"rowNumber\" style = \"font-weight: bold; text-align: right;\">175</td><td style = \"text-align: left;\">Johannes Kulset</td><td style = \"text-align: left;\">Unclassed</td><td style = \"text-align: right;\">4</td><td style = \"text-align: right;\">16</td><td style = \"text-align: right;\">false</td><td style = \"text-align: right;\">false</td><td style = \"text-align: right;\">false</td><td style = \"text-align: right;\">true</td></tr></tbody></table></div>"
      ],
      "text/latex": [
       "\\begin{tabular}{r|cccccccc}\n",
       "\t& name & class & cost & score & All Rounder & Sprinter & Climber & \\\\\n",
       "\t\\hline\n",
       "\t& String & String & Int64 & Int64 & Bool & Bool & Bool & \\\\\n",
       "\t\\hline\n",
       "\t1 & Jonas Vingegaard & All Rounder & 24 & 2703 & 1 & 0 & 0 & $\\dots$ \\\\\n",
       "\t2 & Primož Roglič & All Rounder & 20 & 609 & 1 & 0 & 0 & $\\dots$ \\\\\n",
       "\t3 & Remco Evenepoel & All Rounder & 18 & 2619 & 1 & 0 & 0 & $\\dots$ \\\\\n",
       "\t4 & Jasper Philipsen & Sprinter & 16 & 1482 & 0 & 1 & 0 & $\\dots$ \\\\\n",
       "\t5 & Carlos Rodríguez & Climber & 14 & 1101 & 0 & 0 & 1 & $\\dots$ \\\\\n",
       "\t6 & Matteo Jorgenson & All Rounder & 14 & 1365 & 1 & 0 & 0 & $\\dots$ \\\\\n",
       "\t7 & Wout Van Aert & Sprinter & 14 & 1139 & 0 & 1 & 0 & $\\dots$ \\\\\n",
       "\t8 & Juan Ayuso & All Rounder & 14 & 543 & 1 & 0 & 0 & $\\dots$ \\\\\n",
       "\t9 & Adam Yates & Climber & 14 & 1369 & 0 & 0 & 1 & $\\dots$ \\\\\n",
       "\t10 & Egan Bernal & Climber & 12 & 292 & 0 & 0 & 1 & $\\dots$ \\\\\n",
       "\t11 & Mads Pedersen & Sprinter & 12 & 374 & 0 & 1 & 0 & $\\dots$ \\\\\n",
       "\t12 & Simon Yates & Climber & 12 & 754 & 0 & 0 & 1 & $\\dots$ \\\\\n",
       "\t13 & João Almeida & All Rounder & 12 & 1788 & 1 & 0 & 0 & $\\dots$ \\\\\n",
       "\t14 & Mathieu Van Der Poel & Unclassed & 10 & 214 & 0 & 0 & 0 & $\\dots$ \\\\\n",
       "\t15 & Jai Hindley & Climber & 10 & 358 & 0 & 0 & 1 & $\\dots$ \\\\\n",
       "\t16 & Felix Gall & Climber & 10 & 525 & 0 & 0 & 1 & $\\dots$ \\\\\n",
       "\t17 & Thomas Pidcock & Unclassed & 10 & 306 & 0 & 0 & 0 & $\\dots$ \\\\\n",
       "\t18 & Geraint Thomas & All Rounder & 10 & 88 & 1 & 0 & 0 & $\\dots$ \\\\\n",
       "\t19 & Arnaud De Lie & Sprinter & 10 & 820 & 0 & 1 & 0 & $\\dots$ \\\\\n",
       "\t20 & Enric Mas & All Rounder & 10 & 528 & 1 & 0 & 0 & $\\dots$ \\\\\n",
       "\t21 & Dylan Groenewegen & Sprinter & 10 & 534 & 0 & 1 & 0 & $\\dots$ \\\\\n",
       "\t22 & Mark Cavendish & Sprinter & 8 & 256 & 0 & 1 & 0 & $\\dots$ \\\\\n",
       "\t23 & Phil Bauhaus & Sprinter & 8 & 605 & 0 & 1 & 0 & $\\dots$ \\\\\n",
       "\t24 & Pello Bilbao & All Rounder & 8 & 157 & 1 & 0 & 0 & $\\dots$ \\\\\n",
       "\t$\\dots$ & $\\dots$ & $\\dots$ & $\\dots$ & $\\dots$ & $\\dots$ & $\\dots$ & $\\dots$ &  \\\\\n",
       "\\end{tabular}\n"
      ],
      "text/plain": [
       "\u001b[1m175×8 DataFrame\u001b[0m\n",
       "\u001b[1m Row \u001b[0m│\u001b[1m name                    \u001b[0m\u001b[1m class       \u001b[0m\u001b[1m cost  \u001b[0m\u001b[1m score \u001b[0m\u001b[1m All Rounder \u001b[0m\u001b[1m Sprint\u001b[0m ⋯\n",
       "     │\u001b[90m String                  \u001b[0m\u001b[90m String      \u001b[0m\u001b[90m Int64 \u001b[0m\u001b[90m Int64 \u001b[0m\u001b[90m Bool        \u001b[0m\u001b[90m Bool  \u001b[0m ⋯\n",
       "─────┼──────────────────────────────────────────────────────────────────────────\n",
       "   1 │ Jonas Vingegaard         All Rounder     24   2703         true     fal ⋯\n",
       "   2 │ Primož Roglič            All Rounder     20    609         true     fal\n",
       "   3 │ Remco Evenepoel          All Rounder     18   2619         true     fal\n",
       "   4 │ Jasper Philipsen         Sprinter        16   1482        false      tr\n",
       "   5 │ Carlos Rodríguez         Climber         14   1101        false     fal ⋯\n",
       "   6 │ Matteo Jorgenson         All Rounder     14   1365         true     fal\n",
       "   7 │ Wout Van Aert            Sprinter        14   1139        false      tr\n",
       "   8 │ Juan Ayuso               All Rounder     14    543         true     fal\n",
       "  ⋮  │            ⋮                  ⋮         ⋮      ⋮         ⋮          ⋮   ⋱\n",
       " 169 │ Luke Durbridge           Unclassed        4     14        false     fal ⋯\n",
       " 170 │ Christopher Juul-Jensen  Unclassed        4     54        false     fal\n",
       " 171 │ Elmar Reinders           Unclassed        4      8        false     fal\n",
       " 172 │ Fabien Grellier          Unclassed        4     32        false     fal\n",
       " 173 │ Anthony Turgis           Unclassed        4    644        false     fal ⋯\n",
       " 174 │ Mattéo Vercher           Unclassed        4    245        false     fal\n",
       " 175 │ Johannes Kulset          Unclassed        4     16        false     fal\n",
       "\u001b[36m                                                  3 columns and 160 rows omitted\u001b[0m"
      ]
     },
     "metadata": {},
     "output_type": "display_data"
    }
   ],
   "source": [
    "# download rider data from webpage\n",
    "url = \"https://www.velogames.com/velogame/2024/riders.php\"\n",
    "page = parsehtml(read(download(url), String))\n",
    "rider_table = eachmatch(sel\"table\", page.root)[1]\n",
    "rider_names = String[]\n",
    "rider_classes = String[]\n",
    "rider_costs = Int64[]\n",
    "rider_scores = Int64[]\n",
    "\n",
    "for rider_row in eachmatch(sel\"tr\", rider_table)[3:end]\n",
    "    rider_cells = eachmatch(sel\"td\", rider_row)\n",
    "    push!(rider_names, text(rider_cells[2]))\n",
    "    push!(rider_classes, text(rider_cells[4]))\n",
    "    push!(rider_costs, parse(Int64, text(rider_cells[5])))\n",
    "    push!(rider_scores, parse(Int64, text(rider_cells[7])))\n",
    "end\n",
    "rider_df = DataFrame(name=rider_names, class=rider_classes, cost=rider_costs, score=rider_scores)\n",
    "\n",
    "# normalise class data\n",
    "for class in unique(rider_df.class)\n",
    "    rider_df[!,class] = rider_df.class .== class\n",
    "end\n",
    "\n",
    "rider_df"
   ]
  },
  {
   "cell_type": "code",
   "execution_count": 7,
   "metadata": {},
   "outputs": [
    {
     "name": "stdout",
     "output_type": "stream",
     "text": [
      "Running HiGHS 1.6.0: Copyright (c) 2023 HiGHS under MIT licence terms\n",
      "Presolving model\n",
      "6 rows, 175 cols, 525 nonzeros\n",
      "6 rows, 159 cols, 357 nonzeros\n",
      "Objective function is integral with scale 1\n",
      "\n",
      "Solving MIP model with:\n",
      "   6 rows\n",
      "   159 cols (145 binary, 14 integer, 0 implied int., 0 continuous)\n",
      "   357 nonzeros\n",
      "\n",
      "        Nodes      |    B&B Tree     |            Objective Bounds              |  Dynamic Constraints |       Work      \n",
      "     Proc. InQueue |  Leaves   Expl. | BestBound       BestSol              Gap |   Cuts   InLp Confl. | LpIters     Time\n",
      "\n",
      "         0       0         0   0.00%   50050           -inf                 inf        0      0      0         0     0.0s\n",
      " R       0       0         0   0.00%   13717.333333    13146              4.35%        0      0      0         8     0.0s\n",
      "\n",
      "42.8% inactive integer columns, restarting\n",
      "Model after restart has 5 rows, 91 cols (90 bin., 1 int., 0 impl., 0 cont.), and 207 nonzeros\n",
      "\n",
      "         0       0         0   0.00%   13717.333333    13146              4.35%        0      0      0         8     0.0s\n",
      "         0       0         0   0.00%   13717.333333    13146              4.35%        0      0      2         8     0.0s\n",
      " C       0       0         0   0.00%   13506           13187              2.42%        8      1      2        12     0.0s\n",
      "\n",
      "Solving report\n",
      "  Status            Optimal\n",
      "  Primal bound      13482\n",
      "  Dual bound        13482\n",
      "  Gap               0% (tolerance: 0.01%)\n",
      "  Solution status   feasible\n",
      "                    13482 (objective)\n",
      "                    0 (bound viol.)\n",
      "                    1.11022302463e-16 (int. viol.)\n",
      "                    0 (row viol.)\n",
      "  Timing            0.01 (total)\n",
      "                    0.00 (presolve)\n",
      "                    0.00 (postsolve)\n",
      "  Nodes             1\n",
      "  LP iterations     13 (total)\n",
      "                    0 (strong br.)\n",
      "                    5 (separation)\n",
      "                    0 (heuristics)\n"
     ]
    }
   ],
   "source": [
    "model = Model(HiGHS.Optimizer)\n",
    "@variable(model, x[rider_df.name], Bin)\n",
    "@objective(model, Max, rider_df.score' * x) # maximise the total score\n",
    "@constraint(model, rider_df.cost' * x <= 100) # cost must be <= 100\n",
    "@constraint(model, sum(x) == 9) # exactly 9 riders must be chosen\n",
    "@constraint(model, rider_df[!, \"All Rounder\"]' * x >= 2) # at least 2 must be all rounders\n",
    "@constraint(model, rider_df[!, \"Sprinter\"]' * x >= 1) # at least 1 must be a sprinter\n",
    "@constraint(model, rider_df[!, \"Climber\"]' * x >= 2) # at least 2 must be climbers\n",
    "@constraint(model, rider_df[!, \"Unclassed\"]' * x >= 3) # at least 3 must be unclassed\n",
    "optimize!(model)"
   ]
  },
  {
   "cell_type": "code",
   "execution_count": 8,
   "metadata": {},
   "outputs": [
    {
     "data": {
      "text/plain": [
       "13482.0"
      ]
     },
     "metadata": {},
     "output_type": "display_data"
    }
   ],
   "source": [
    "# total score\n",
    "objective_value(model)"
   ]
  },
  {
   "cell_type": "code",
   "execution_count": 9,
   "metadata": {},
   "outputs": [
    {
     "data": {
      "text/plain": [
       "100.0"
      ]
     },
     "metadata": {},
     "output_type": "display_data"
    }
   ],
   "source": [
    "# total cost\n",
    "rider_df.cost.*value.(x).data |> sum"
   ]
  },
  {
   "cell_type": "code",
   "execution_count": 10,
   "metadata": {},
   "outputs": [
    {
     "data": {
      "text/html": [
       "<div><div style = \"float: left;\"><span>9×9 DataFrame</span></div><div style = \"clear: both;\"></div></div><div class = \"data-frame\" style = \"overflow-x: scroll;\"><table class = \"data-frame\" style = \"margin-bottom: 6px;\"><thead><tr class = \"header\"><th class = \"rowNumber\" style = \"font-weight: bold; text-align: right;\">Row</th><th style = \"text-align: left;\">name</th><th style = \"text-align: left;\">class</th><th style = \"text-align: left;\">cost</th><th style = \"text-align: left;\">score</th><th style = \"text-align: left;\">All Rounder</th><th style = \"text-align: left;\">Sprinter</th><th style = \"text-align: left;\">Climber</th><th style = \"text-align: left;\">Unclassed</th><th style = \"text-align: left;\">chosen</th></tr><tr class = \"subheader headerLastRow\"><th class = \"rowNumber\" style = \"font-weight: bold; text-align: right;\"></th><th title = \"String\" style = \"text-align: left;\">String</th><th title = \"String\" style = \"text-align: left;\">String</th><th title = \"Int64\" style = \"text-align: left;\">Int64</th><th title = \"Int64\" style = \"text-align: left;\">Int64</th><th title = \"Bool\" style = \"text-align: left;\">Bool</th><th title = \"Bool\" style = \"text-align: left;\">Bool</th><th title = \"Bool\" style = \"text-align: left;\">Bool</th><th title = \"Bool\" style = \"text-align: left;\">Bool</th><th title = \"Bool\" style = \"text-align: left;\">Bool</th></tr></thead><tbody><tr><td class = \"rowNumber\" style = \"font-weight: bold; text-align: right;\">1</td><td style = \"text-align: left;\">Jonas Vingegaard</td><td style = \"text-align: left;\">All Rounder</td><td style = \"text-align: right;\">24</td><td style = \"text-align: right;\">2703</td><td style = \"text-align: right;\">true</td><td style = \"text-align: right;\">false</td><td style = \"text-align: right;\">false</td><td style = \"text-align: right;\">false</td><td style = \"text-align: right;\">true</td></tr><tr><td class = \"rowNumber\" style = \"font-weight: bold; text-align: right;\">2</td><td style = \"text-align: left;\">Remco Evenepoel</td><td style = \"text-align: left;\">All Rounder</td><td style = \"text-align: right;\">18</td><td style = \"text-align: right;\">2619</td><td style = \"text-align: right;\">true</td><td style = \"text-align: right;\">false</td><td style = \"text-align: right;\">false</td><td style = \"text-align: right;\">false</td><td style = \"text-align: right;\">true</td></tr><tr><td class = \"rowNumber\" style = \"font-weight: bold; text-align: right;\">3</td><td style = \"text-align: left;\">Adam Yates</td><td style = \"text-align: left;\">Climber</td><td style = \"text-align: right;\">14</td><td style = \"text-align: right;\">1369</td><td style = \"text-align: right;\">false</td><td style = \"text-align: right;\">false</td><td style = \"text-align: right;\">true</td><td style = \"text-align: right;\">false</td><td style = \"text-align: right;\">true</td></tr><tr><td class = \"rowNumber\" style = \"font-weight: bold; text-align: right;\">4</td><td style = \"text-align: left;\">João Almeida</td><td style = \"text-align: left;\">All Rounder</td><td style = \"text-align: right;\">12</td><td style = \"text-align: right;\">1788</td><td style = \"text-align: right;\">true</td><td style = \"text-align: right;\">false</td><td style = \"text-align: right;\">false</td><td style = \"text-align: right;\">false</td><td style = \"text-align: right;\">true</td></tr><tr><td class = \"rowNumber\" style = \"font-weight: bold; text-align: right;\">5</td><td style = \"text-align: left;\">Biniam Girmay</td><td style = \"text-align: left;\">Sprinter</td><td style = \"text-align: right;\">8</td><td style = \"text-align: right;\">1741</td><td style = \"text-align: right;\">false</td><td style = \"text-align: right;\">true</td><td style = \"text-align: right;\">false</td><td style = \"text-align: right;\">false</td><td style = \"text-align: right;\">true</td></tr><tr><td class = \"rowNumber\" style = \"font-weight: bold; text-align: right;\">6</td><td style = \"text-align: left;\">Derek Gee</td><td style = \"text-align: left;\">Unclassed</td><td style = \"text-align: right;\">8</td><td style = \"text-align: right;\">949</td><td style = \"text-align: right;\">false</td><td style = \"text-align: right;\">false</td><td style = \"text-align: right;\">false</td><td style = \"text-align: right;\">true</td><td style = \"text-align: right;\">true</td></tr><tr><td class = \"rowNumber\" style = \"font-weight: bold; text-align: right;\">7</td><td style = \"text-align: left;\">Mikel Landa</td><td style = \"text-align: left;\">Climber</td><td style = \"text-align: right;\">8</td><td style = \"text-align: right;\">1342</td><td style = \"text-align: right;\">false</td><td style = \"text-align: right;\">false</td><td style = \"text-align: right;\">true</td><td style = \"text-align: right;\">false</td><td style = \"text-align: right;\">true</td></tr><tr><td class = \"rowNumber\" style = \"font-weight: bold; text-align: right;\">8</td><td style = \"text-align: left;\">Ryan Gibbons</td><td style = \"text-align: left;\">Unclassed</td><td style = \"text-align: right;\">4</td><td style = \"text-align: right;\">327</td><td style = \"text-align: right;\">false</td><td style = \"text-align: right;\">false</td><td style = \"text-align: right;\">false</td><td style = \"text-align: right;\">true</td><td style = \"text-align: right;\">true</td></tr><tr><td class = \"rowNumber\" style = \"font-weight: bold; text-align: right;\">9</td><td style = \"text-align: left;\">Anthony Turgis</td><td style = \"text-align: left;\">Unclassed</td><td style = \"text-align: right;\">4</td><td style = \"text-align: right;\">644</td><td style = \"text-align: right;\">false</td><td style = \"text-align: right;\">false</td><td style = \"text-align: right;\">false</td><td style = \"text-align: right;\">true</td><td style = \"text-align: right;\">true</td></tr></tbody></table></div>"
      ],
      "text/latex": [
       "\\begin{tabular}{r|ccccccccc}\n",
       "\t& name & class & cost & score & All Rounder & Sprinter & Climber & Unclassed & \\\\\n",
       "\t\\hline\n",
       "\t& String & String & Int64 & Int64 & Bool & Bool & Bool & Bool & \\\\\n",
       "\t\\hline\n",
       "\t1 & Jonas Vingegaard & All Rounder & 24 & 2703 & 1 & 0 & 0 & 0 & $\\dots$ \\\\\n",
       "\t2 & Remco Evenepoel & All Rounder & 18 & 2619 & 1 & 0 & 0 & 0 & $\\dots$ \\\\\n",
       "\t3 & Adam Yates & Climber & 14 & 1369 & 0 & 0 & 1 & 0 & $\\dots$ \\\\\n",
       "\t4 & João Almeida & All Rounder & 12 & 1788 & 1 & 0 & 0 & 0 & $\\dots$ \\\\\n",
       "\t5 & Biniam Girmay & Sprinter & 8 & 1741 & 0 & 1 & 0 & 0 & $\\dots$ \\\\\n",
       "\t6 & Derek Gee & Unclassed & 8 & 949 & 0 & 0 & 0 & 1 & $\\dots$ \\\\\n",
       "\t7 & Mikel Landa & Climber & 8 & 1342 & 0 & 0 & 1 & 0 & $\\dots$ \\\\\n",
       "\t8 & Ryan Gibbons & Unclassed & 4 & 327 & 0 & 0 & 0 & 1 & $\\dots$ \\\\\n",
       "\t9 & Anthony Turgis & Unclassed & 4 & 644 & 0 & 0 & 0 & 1 & $\\dots$ \\\\\n",
       "\\end{tabular}\n"
      ],
      "text/plain": [
       "\u001b[1m9×9 DataFrame\u001b[0m\n",
       "\u001b[1m Row \u001b[0m│\u001b[1m name             \u001b[0m\u001b[1m class       \u001b[0m\u001b[1m cost  \u001b[0m\u001b[1m score \u001b[0m\u001b[1m All Rounder \u001b[0m\u001b[1m Sprinter \u001b[0m\u001b[1m Cli\u001b[0m ⋯\n",
       "     │\u001b[90m String           \u001b[0m\u001b[90m String      \u001b[0m\u001b[90m Int64 \u001b[0m\u001b[90m Int64 \u001b[0m\u001b[90m Bool        \u001b[0m\u001b[90m Bool     \u001b[0m\u001b[90m Boo\u001b[0m ⋯\n",
       "─────┼──────────────────────────────────────────────────────────────────────────\n",
       "   1 │ Jonas Vingegaard  All Rounder     24   2703         true     false    f ⋯\n",
       "   2 │ Remco Evenepoel   All Rounder     18   2619         true     false    f\n",
       "   3 │ Adam Yates        Climber         14   1369        false     false\n",
       "   4 │ João Almeida      All Rounder     12   1788         true     false    f\n",
       "   5 │ Biniam Girmay     Sprinter         8   1741        false      true    f ⋯\n",
       "   6 │ Derek Gee         Unclassed        8    949        false     false    f\n",
       "   7 │ Mikel Landa       Climber          8   1342        false     false\n",
       "   8 │ Ryan Gibbons      Unclassed        4    327        false     false    f\n",
       "   9 │ Anthony Turgis    Unclassed        4    644        false     false    f ⋯\n",
       "\u001b[36m                                                               3 columns omitted\u001b[0m"
      ]
     },
     "metadata": {},
     "output_type": "display_data"
    }
   ],
   "source": [
    "# selected riders\n",
    "rider_df[!,:chosen] = value.(x).data .|>  !iszero\n",
    "filter(:chosen => ==(true), rider_df)"
   ]
  }
 ],
 "metadata": {
  "kernelspec": {
   "display_name": "Julia 1.7.3",
   "language": "julia",
   "name": "julia-1.7"
  },
  "language_info": {
   "file_extension": ".jl",
   "mimetype": "application/julia",
   "name": "julia",
   "version": "1.7.3"
  },
  "orig_nbformat": 4
 },
 "nbformat": 4,
 "nbformat_minor": 2
}
